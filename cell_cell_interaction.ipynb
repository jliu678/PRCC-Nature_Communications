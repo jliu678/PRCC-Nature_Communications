{
 "cells": [
  {
   "cell_type": "markdown",
   "id": "da8cbe60",
   "metadata": {},
   "source": [
    "# 2. Ligand-Receptor Inference"
   ]
  },
  {
   "cell_type": "code",
   "execution_count": null,
   "id": "7918dd8e",
   "metadata": {},
   "outputs": [],
   "source": [
    "# prep data in R;\n",
    "# see details in '/PHShome/jn22/kidney/LIANA_cell2cell/Python_notebooks/convert_kidneySeurat_to_anndata.ipynb'\n",
    "\n",
    "\n",
    "library(Seurat)\n",
    "# library('hdf5r')\n",
    "# library(cli)\n",
    "# library('digest')\n",
    "# library(htmltools)\n",
    "# library('later')\n",
    "# library(purrr)\n",
    "# library('httpuv')\n",
    "# library(tidyr)\n",
    "library(SeuratDisk)\n",
    "library(magrittr)\n",
    "library(dplyr)\n",
    "library(data.table)\n",
    "library(ggplot2)\n",
    "\n",
    "\n",
    "read.csv(file = '../kidney/test_coda/kid_celltype.csv')->kid_celltype# the csv prepared by '/PHShome/jn22/kidney/prep_input_to_tascCODA.R'\n",
    "head(kid_celltype)\n",
    "\n",
    "readRDS('../kidney/kidney.Rds')->kid\n",
    "kid[[]] %>% View()\n",
    "\n",
    "if (identical(kid_celltype$cellId,rownames(kid[[]]))){\n",
    "  kid_celltype[,-1] %>%\n",
    "    tibble::column_to_rownames(var = 'cellId')->kid@meta.data\n",
    "}else{\n",
    "  '!!!please double check'\n",
    "}\n",
    "\n",
    "SaveH5Seurat(kid, filename = \"kidney.h5Seurat\")\n",
    "Convert(\"kidney.h5Seurat\", dest = \"h5ad\")\n",
    "unlink(\"kidney.h5Seurat\")"
   ]
  },
  {
   "cell_type": "markdown",
   "id": "c4f0faf6",
   "metadata": {},
   "source": [
    "## Environment Setup and Directories\n",
    "#### switch back to LIANA env"
   ]
  },
  {
   "cell_type": "code",
   "execution_count": null,
   "id": "6101f5d9",
   "metadata": {},
   "outputs": [],
   "source": [
    "#switch back to LIANA env\n",
    "import os\n",
    "import numpy as np\n",
    "import pandas as pd\n",
    "import scipy\n",
    "\n",
    "import scanpy as sc\n",
    "\n",
    "import liana as li\n",
    "import plotnine as p9\n",
    "\n",
    "from tqdm.auto import tqdm\n",
    "\n",
    "import warnings\n",
    "warnings.filterwarnings('ignore')\n",
    "\n",
    "data_path = '.'\n",
    "output_folder = os.path.join(data_path, 'kidney_liana_output_for_cell2cell/')\n",
    "os.mkdir(output_folder)"
   ]
  },
  {
   "cell_type": "markdown",
   "id": "878518e3",
   "metadata": {},
   "source": [
    "## Data Reminder"
   ]
  },
  {
   "cell_type": "code",
   "execution_count": null,
   "id": "e03ada1a",
   "metadata": {},
   "outputs": [],
   "source": [
    "adata = sc.read_h5ad(os.path.join(data_path, 'kidney.h5ad'))"
   ]
  },
  {
   "cell_type": "markdown",
   "id": "fdea07fc",
   "metadata": {},
   "source": [
    "just as a quick reminder, let's visualize the cell types and samples in the data."
   ]
  },
  {
   "cell_type": "code",
   "execution_count": null,
   "id": "f9e03b0d",
   "metadata": {},
   "outputs": [],
   "source": [
    "adata.obs.head()"
   ]
  },
  {
   "cell_type": "code",
   "execution_count": null,
   "id": "493f327f",
   "metadata": {},
   "outputs": [],
   "source": [
    "np.sort(adata.obs.celltype_level2a.unique())"
   ]
  },
  {
   "cell_type": "code",
   "execution_count": null,
   "id": "688efaed",
   "metadata": {},
   "outputs": [],
   "source": [
    "np.sort(adata.obs.replace(to_replace={\"celltype_level2a\": \"M-MDSC\"}, \n",
    "                  value=\"MDSC\").celltype_level2a.unique())"
   ]
  },
  {
   "cell_type": "code",
   "execution_count": null,
   "id": "d045d8c3",
   "metadata": {},
   "outputs": [],
   "source": [
    "adata.obs=adata.obs.replace(to_replace={\"celltype_level2a\": \"M-MDSC\"}, \n",
    "                  value=\"MDSC\")"
   ]
  },
  {
   "cell_type": "code",
   "execution_count": null,
   "id": "e3942afa",
   "metadata": {},
   "outputs": [],
   "source": [
    "np.sort(adata.obs.replace(to_replace={\"celltype_level2a\": \"distal_tubule_epithelial cells\"}, \n",
    "                  value={\"celltype_level2a\": \"distal_tubule_epithelial_cells\"}).celltype_level2a.unique())"
   ]
  },
  {
   "cell_type": "code",
   "execution_count": null,
   "id": "33e9f565",
   "metadata": {},
   "outputs": [],
   "source": [
    "adata.obs=adata.obs.replace(to_replace={\"celltype_level2a\": \"distal_tubule_epithelial cells\"}, \n",
    "                  value={\"celltype_level2a\": \"distal_tubule_epithelial_cells\"})"
   ]
  },
  {
   "cell_type": "code",
   "execution_count": null,
   "id": "1764698a",
   "metadata": {},
   "outputs": [],
   "source": [
    "adata.obs.head()"
   ]
  },
  {
   "cell_type": "code",
   "execution_count": null,
   "id": "dfb5c878",
   "metadata": {},
   "outputs": [],
   "source": [
    "np.sort(adata.obs.celltype_level2a.unique())"
   ]
  },
  {
   "cell_type": "code",
   "execution_count": null,
   "id": "14fe8319",
   "metadata": {},
   "outputs": [],
   "source": [
    "adata.obs[\"laipingCluster\"] = adata.obs[\"laipingCluster\"].apply(str)\n",
    "# adata.obs.laipingCluster=adata.obs.laipingCluster.astype('category')\n",
    "\n",
    "adata.obs.celltype_level2a=adata.obs.celltype_level2a.apply(str)\n",
    "adata.obs.celltype_level2a=adata.obs.celltype_level2a.astype('category')\n",
    "\n",
    "adata.obs.info()"
   ]
  },
  {
   "cell_type": "code",
   "execution_count": null,
   "id": "cc54740e",
   "metadata": {},
   "outputs": [],
   "source": [
    "# plot pre-annotated cell types\n",
    "sc.pl.umap(adata, color=['laipingCluster','celltype_level2a']) # would do 'sample_new' only if we integrate"
   ]
  },
  {
   "cell_type": "code",
   "execution_count": null,
   "id": "ac40df01",
   "metadata": {},
   "outputs": [],
   "source": [
    "li.method.show_methods()"
   ]
  },
  {
   "cell_type": "code",
   "execution_count": null,
   "id": "24f26cd5",
   "metadata": {
    "tags": []
   },
   "outputs": [],
   "source": [
    "[i for i in li.method.show_methods()['Reference']]"
   ]
  },
  {
   "cell_type": "markdown",
   "id": "c6871be4",
   "metadata": {},
   "source": [
    "### Score Distributions"
   ]
  },
  {
   "cell_type": "code",
   "execution_count": null,
   "id": "4dd09e9e",
   "metadata": {},
   "outputs": [],
   "source": [
    "adata.var"
   ]
  },
  {
   "cell_type": "code",
   "execution_count": null,
   "id": "a396fc10",
   "metadata": {},
   "outputs": [],
   "source": [
    "#sc.pp.highly_variable_genes(adata, flavor = 'seurat', n_top_genes = 5000, batch_key=\"sample\")"
   ]
  },
  {
   "cell_type": "code",
   "execution_count": null,
   "id": "e5f30891",
   "metadata": {},
   "outputs": [],
   "source": [
    "# pick a sample to infer the communication scores for\n",
    "ctr_adata = adata[adata.obs['sample']=='CTR'].copy()\n",
    "d7_adata = adata[adata.obs['sample']=='D7'].copy()\n",
    "m4_adata = adata[adata.obs['sample']=='M4'].copy()"
   ]
  },
  {
   "cell_type": "code",
   "execution_count": null,
   "id": "af3fdde6",
   "metadata": {},
   "outputs": [],
   "source": [
    "if input(\"Ture to load already existed h5ad, and skip 'li.method.rank_aggregate' and saving h5ad\"):\n",
    "    sadata = sc.read_h5ad(os.path.join(data_path, 'kidney_CTR.h5ad'))\n",
    "else:\n",
    "    print('Have not load h5ad, the below cell will asign')"
   ]
  },
  {
   "cell_type": "code",
   "execution_count": null,
   "id": "440e2dfb",
   "metadata": {},
   "outputs": [],
   "source": [
    "%%time\n",
    "\n",
    "sadata=d7_adata.copy()\n",
    "li.method.rank_aggregate(sadata, \n",
    "                           # groupby='laipingCluster', \n",
    "                           groupby='celltype_level2a', \n",
    "                           resource_name = 'mouseconsensus',\n",
    "                           expr_prop=0.1, # must be expressed in expr_prop fraction of cells\n",
    "                           min_cells = 5,\n",
    "                           n_perms = 1000, \n",
    "                           use_raw = False, # run on log- and library-normalized counts\n",
    "                         # use_raw = True,\n",
    "                           verbose = True, \n",
    "                           inplace = True,\n",
    "                         #target_organism = 10090\n",
    "                          )\n",
    "#check and save h5ad\n",
    "sadata\n",
    "\n",
    "sadata.write_h5ad(os.path.join(data_path, ''.join(['kidney_', whichSample,'.h5ad'])))"
   ]
  },
  {
   "cell_type": "markdown",
   "id": "ad4265dc",
   "metadata": {},
   "source": [
    "LIANA's results are by default save to the `liana_res` slot in `adata.uns`"
   ]
  },
  {
   "cell_type": "code",
   "execution_count": null,
   "id": "b791d9e6",
   "metadata": {},
   "outputs": [],
   "source": [
    "liana_res = sadata.uns['liana_res'].copy()\n",
    "# only keep those that are not liana's ranks\n",
    "liana_res.head()"
   ]
  },
  {
   "cell_type": "code",
   "execution_count": null,
   "id": "b9e3563b",
   "metadata": {},
   "outputs": [],
   "source": [
    "liana_res[liana_res['source'].isin([\"MDSC\", \"cancer_cell_c11\", \"cancer_cell_c5\"]) & liana_res.target.isin([\"MDSC\", \"cancer_cell_c11\", \"cancer_cell_c5\"])].head()\n",
    "# liana_res.source.isin([\"MDSC\", \"cancer_cell_c11\", \"cancer_cell_c5\"]) | liana_res.target.isin([\"MDSC\", \"cancer_cell_c11\", \"cancer_cell_c5\"])"
   ]
  },
  {
   "cell_type": "code",
   "execution_count": null,
   "id": "e1ba58a7",
   "metadata": {},
   "outputs": [],
   "source": [
    "liana_res[liana_res.source.isin([\"cancer_cell_c11\", \"cancer_cell_c5\"]) & liana_res.target.isin([\"MDSC\"])]"
   ]
  },
  {
   "cell_type": "code",
   "execution_count": null,
   "id": "e439b6b3",
   "metadata": {},
   "outputs": [],
   "source": [
    "liana_res[liana_res.source.isin([\"MDSC\"]) & liana_res.target.isin([\"cancer_cell_c11\", \"cancer_cell_c5\"])]"
   ]
  },
  {
   "cell_type": "code",
   "execution_count": null,
   "id": "3a8b3b3c",
   "metadata": {},
   "outputs": [],
   "source": [
    "li.method.show_methods()"
   ]
  },
  {
   "cell_type": "code",
   "execution_count": null,
   "id": "59de4e9a",
   "metadata": {},
   "outputs": [],
   "source": [
    "# convert to long format by index, and each score and value in different columns\n",
    "liana_res = liana_res.loc[:, liana_res.columns[~liana_res.columns.str.contains(pat = 'rank')]]\n",
    "liana_res = liana_res.melt(id_vars=['source', 'target', 'ligand_complex', 'receptor_complex'], var_name='score', value_name='value')\n",
    "\n",
    "liana_res['score'] = liana_res['score'].astype('category')"
   ]
  },
  {
   "cell_type": "code",
   "execution_count": null,
   "id": "d7f58044",
   "metadata": {},
   "outputs": [],
   "source": [
    "%%time \n",
    "(p9.ggplot(liana_res, p9.aes(x='value', fill='score')) + \n",
    " p9.geom_density(alpha=0.5) + \n",
    " p9.facet_wrap('~score', scales='free') +\n",
    " p9.theme_bw() +\n",
    " p9.theme(figure_size=(8, 8))\n",
    " )"
   ]
  },
  {
   "cell_type": "markdown",
   "id": "a1b4090f",
   "metadata": {},
   "source": [
    "### Single-Sample Dotplot"
   ]
  },
  {
   "cell_type": "code",
   "execution_count": null,
   "id": "83a7c783",
   "metadata": {
    "tags": []
   },
   "outputs": [],
   "source": [
    "msk1 = np.isin(sadata.uns['liana_res'][\"source\"], np.array([\"5\", \"11\", \"0\", \"2\", \"8\", \"13\"]))\n",
    "msk2 = np.isin(sadata.uns['liana_res'][\"target\"], np.array(['0', '2', \"8\", \"13\",\"5\", \"11\"]))\n",
    "\n",
    "sadata.uns['liana_res'][msk1 & msk2]\n",
    "\n",
    "# msk[1:10]"
   ]
  },
  {
   "cell_type": "code",
   "execution_count": null,
   "id": "741b43ae",
   "metadata": {},
   "outputs": [],
   "source": [
    "del msk1\n",
    "del msk2\n",
    "sadata.uns['liana_res'].info()"
   ]
  },
  {
   "cell_type": "code",
   "execution_count": null,
   "id": "045cf7c2",
   "metadata": {},
   "outputs": [],
   "source": [
    "sadata2 = sadata.copy()\n",
    "sadata2.uns['liana_res'][\"target\"] = sadata2.uns['liana_res'][\"target\"].apply(str)\n",
    "sadata2.uns['liana_res'][\"source\"] = sadata2.uns['liana_res'][\"source\"].apply(str)\n",
    "sadata2.uns['liana_res']['source']= sadata2.uns['liana_res']['source'].astype('category')"
   ]
  },
  {
   "cell_type": "code",
   "execution_count": null,
   "id": "b710a25c",
   "metadata": {},
   "outputs": [],
   "source": [
    "msk1 = np.isin(sadata2.uns['liana_res'][\"source\"], np.array([\"5\", \"11\", \"0\", \"2\", \"8\", \"13\"]))\n",
    "msk2 = np.isin(sadata2.uns['liana_res'][\"target\"], np.array(['0', '2', \"8\", \"13\",\"5\", \"11\"]))\n",
    "\n",
    "sadata2.uns['liana_res'][msk1 & msk2]"
   ]
  },
  {
   "cell_type": "code",
   "execution_count": null,
   "id": "926c3353",
   "metadata": {},
   "outputs": [],
   "source": [
    "%%time\n",
    "li.pl.dotplot(\n",
    "    adata=sadata2,\n",
    "    # liana_res=sadata2.uns['liana_res'],\n",
    "    colour='lr_means',\n",
    "    size='cellphone_pvals',\n",
    "    source_labels=[\"MDSC\", \"cancer_cell_c11\", \"cancer_cell_c5\"],\n",
    "    # source_labels=[\"cancer_cell_c11\", \"cancer_cell_c5\"],\n",
    "    target_labels=[\"MDSC\", \"cancer_cell_c11\", \"cancer_cell_c5\"],\n",
    "    \n",
    "    # colour=\"magnitude_rank\",\n",
    "    # size=\"specificity_rank\",\n",
    "    \n",
    "    inverse_colour=True,  # we inverse sign since we want small p-values to have large sizes\n",
    "    inverse_size=True,\n",
    "    # We choose only the cell types which we wish to plot\n",
    "    # source_labels=[\"B\", \"pDC\", \"Macrophages\"],\n",
    "    # target_labels=[\"T\", \"Mast\", \"pDC\", \"NK\"],\n",
    "\n",
    "\n",
    "    # since the rank_aggregate can also be interpreted as a probability distribution\n",
    "    # we can again filter them according to their specificity significance\n",
    "    # yet here the interactions are filtered according to\n",
    "    # how consistently highly-ranked is their specificity across the methods\n",
    "    # filterby=\"specificity_rank\",\n",
    "    # filter_lambda=lambda x: x <= 0.05,\n",
    "   \n",
    "    # again, we can also further order according to magnitude\n",
    "    orderby=\"lr_means\",\n",
    "    orderby_ascending=True,  # prioritize those with lowest values\n",
    "    top_n=20,  # and we want to keep only the top 20 interactions\n",
    "    figure_size=(9, 5),\n",
    "    size_range=(1, 6),\n",
    ")"
   ]
  },
  {
   "cell_type": "code",
   "execution_count": null,
   "id": "194711fb",
   "metadata": {
    "tags": []
   },
   "outputs": [],
   "source": [
    "adata.uns['liana_res']['receptor_complex'].unique()"
   ]
  },
  {
   "cell_type": "code",
   "execution_count": null,
   "id": "09c12974",
   "metadata": {},
   "outputs": [],
   "source": [
    "# adata.uns['liana_res'].to_csv(\"kindey_all_liana_results.csv\")\n",
    "adata.uns['liana_res'].to_csv(\"kindey_all_celltype_level2a_liana_results.csv\")"
   ]
  },
  {
   "cell_type": "code",
   "execution_count": null,
   "id": "6bf4d62f",
   "metadata": {
    "tags": []
   },
   "outputs": [],
   "source": [
    "import re\n",
    "\n",
    "# np.sort(adata.uns['liana_res']['receptor_complex'].unique())\n",
    "receptor_complex_of_interest=[]\n",
    "for i in adata.uns['liana_res']['receptor_complex'].unique():\n",
    "    if re.search(\".*csf.*\", i, re.I):\n",
    "        receptor_complex_of_interest.append(re.search(\".*csf.*\", i, re.I).group())\n",
    "receptor_complex_of_interest\n",
    "\n",
    "# receptor_complex_of_interest=[re.search(\".*csf.*\", i, re.I).group() for i in adata.uns['liana_res']['receptor_complex'].unique() if re.search(\".*csf.*\", i, re.I)]"
   ]
  },
  {
   "cell_type": "code",
   "execution_count": null,
   "id": "aeac1097",
   "metadata": {},
   "outputs": [],
   "source": [
    "# t_pattern=\"|\".join('Ccl2,Ccl4,Ccl5,Ccl7,Ccl8,Ccl12,Cxcl3,Cxcl14,Ccl3,Ccl5,Ccl7,Cxcl1,Cxcl2,Cxcl5'.split(','))\n",
    "t_pattern=('Ccl2,Ccl4,Ccl5,Ccl7,Ccl8,Ccl12,Cxcl3,Cxcl14,Ccl3,Ccl5,Ccl7,Cxcl1,Cxcl2,Cxcl5'.replace(',','|'))\n",
    "import re\n",
    "ligand_complex_of_interest=list(set([re.search(t_pattern, i, re.I).group() for i in adata.uns['liana_res']['ligand_complex'].unique() if re.search(t_pattern, i, re.I)]))\n",
    "ligand_complex_of_interest"
   ]
  },
  {
   "cell_type": "markdown",
   "id": "39ec7da6",
   "metadata": {
    "tags": []
   },
   "source": [
    "We can also generate a dotplot for the most highly-ranked ligand-receptor interactions for each sample.\n",
    "Let's pick the first two distinct interaction in the list, and see how they look like in the `dotplot_by_sample`."
   ]
  },
  {
   "cell_type": "code",
   "execution_count": null,
   "id": "478c4fea",
   "metadata": {},
   "outputs": [],
   "source": [
    "adata2 = adata.copy()\n",
    "adata2.uns['liana_res'][\"target\"] = adata2.uns['liana_res'][\"target\"].apply(str)\n",
    "adata2.uns['liana_res'][\"source\"] = adata2.uns['liana_res'][\"source\"].apply(str)"
   ]
  },
  {
   "cell_type": "code",
   "execution_count": null,
   "id": "64e4cada",
   "metadata": {},
   "outputs": [],
   "source": [
    "adata2"
   ]
  },
  {
   "cell_type": "code",
   "execution_count": null,
   "id": "99c961c8",
   "metadata": {},
   "outputs": [],
   "source": [
    "%%time\n",
    "li.pl.dotplot_by_sample(\n",
    "    adata=adata2,\n",
    "    colour='lr_means',\n",
    "    size='cellphone_pvals',\n",
    "    source_labels=[\"MDSC\", \"cancer_cell_c11\", \"cancer_cell_c5\"],\n",
    "    # target_labels=['0', '2', \"8\", \"13\",\"5\", \"11\"],\n",
    "    target_labels=[\"MDSC\", \"cancer_cell_c11\", \"cancer_cell_c5\"],\n",
    "    ligand_complex = ligand_complex_of_interest,\n",
    "    # receptor_complex= ['CD3D', 'KLRD1'],\n",
    "    # receptor_complex= receptor_complex_of_interest,\n",
    "    sample_key='sample',\n",
    "    inverse_colour=False,\n",
    "    inverse_size=True,\n",
    "    figure_size=(9, 27),\n",
    "    size_range=(1, 6),\n",
    ")"
   ]
  }
 ],
 "metadata": {
  "kernelspec": {
   "display_name": "Python(cell2cell&Liana)",
   "language": "python",
   "name": "cell2cell"
  },
  "language_info": {
   "codemirror_mode": {
    "name": "ipython",
    "version": 3
   },
   "file_extension": ".py",
   "mimetype": "text/x-python",
   "name": "python",
   "nbconvert_exporter": "python",
   "pygments_lexer": "ipython3",
   "version": "3.7.12"
  },
  "vscode": {
   "interpreter": {
    "hash": "a89d9df9e41c144bbb86b791904f32fb0efeb7b488a88d676a8bce57017c9696"
   }
  }
 },
 "nbformat": 4,
 "nbformat_minor": 5
}
